{
  "nbformat": 4,
  "nbformat_minor": 0,
  "metadata": {
    "colab": {
      "provenance": []
    },
    "kernelspec": {
      "name": "python3",
      "display_name": "Python 3"
    },
    "language_info": {
      "name": "python"
    }
  },
  "cells": [
    {
      "cell_type": "code",
      "execution_count": 1,
      "metadata": {
        "colab": {
          "base_uri": "https://localhost:8080/"
        },
        "id": "G-6dbK_wJsjl",
        "outputId": "7259502d-3fce-4acc-ee9f-7189b50be7a0"
      },
      "outputs": [
        {
          "output_type": "stream",
          "name": "stdout",
          "text": [
            "hello world\n"
          ]
        }
      ],
      "source": [
        "print(\"hello world\")"
      ]
    },
    {
      "cell_type": "code",
      "source": [
        "!pip install openai"
      ],
      "metadata": {
        "id": "xFnsenSSKeDZ",
        "colab": {
          "base_uri": "https://localhost:8080/"
        },
        "outputId": "f5938d71-7981-4778-fb40-150410ec388b"
      },
      "execution_count": 33,
      "outputs": [
        {
          "output_type": "stream",
          "name": "stdout",
          "text": [
            "Requirement already satisfied: openai in /usr/local/lib/python3.10/dist-packages (0.27.8)\n",
            "Requirement already satisfied: requests>=2.20 in /usr/local/lib/python3.10/dist-packages (from openai) (2.31.0)\n",
            "Requirement already satisfied: tqdm in /usr/local/lib/python3.10/dist-packages (from openai) (4.66.1)\n",
            "Requirement already satisfied: aiohttp in /usr/local/lib/python3.10/dist-packages (from openai) (3.8.5)\n",
            "Requirement already satisfied: charset-normalizer<4,>=2 in /usr/local/lib/python3.10/dist-packages (from requests>=2.20->openai) (3.2.0)\n",
            "Requirement already satisfied: idna<4,>=2.5 in /usr/local/lib/python3.10/dist-packages (from requests>=2.20->openai) (3.4)\n",
            "Requirement already satisfied: urllib3<3,>=1.21.1 in /usr/local/lib/python3.10/dist-packages (from requests>=2.20->openai) (2.0.4)\n",
            "Requirement already satisfied: certifi>=2017.4.17 in /usr/local/lib/python3.10/dist-packages (from requests>=2.20->openai) (2023.7.22)\n",
            "Requirement already satisfied: attrs>=17.3.0 in /usr/local/lib/python3.10/dist-packages (from aiohttp->openai) (23.1.0)\n",
            "Requirement already satisfied: multidict<7.0,>=4.5 in /usr/local/lib/python3.10/dist-packages (from aiohttp->openai) (6.0.4)\n",
            "Requirement already satisfied: async-timeout<5.0,>=4.0.0a3 in /usr/local/lib/python3.10/dist-packages (from aiohttp->openai) (4.0.3)\n",
            "Requirement already satisfied: yarl<2.0,>=1.0 in /usr/local/lib/python3.10/dist-packages (from aiohttp->openai) (1.9.2)\n",
            "Requirement already satisfied: frozenlist>=1.1.1 in /usr/local/lib/python3.10/dist-packages (from aiohttp->openai) (1.4.0)\n",
            "Requirement already satisfied: aiosignal>=1.1.2 in /usr/local/lib/python3.10/dist-packages (from aiohttp->openai) (1.3.1)\n"
          ]
        }
      ]
    },
    {
      "cell_type": "code",
      "source": [
        "import openai"
      ],
      "metadata": {
        "id": "82epCKVhKiHj"
      },
      "execution_count": 34,
      "outputs": []
    },
    {
      "cell_type": "code",
      "source": [
        "openai.api_key = ''"
      ],
      "metadata": {
        "id": "1TKBxbaRKhWs"
      },
      "execution_count": 35,
      "outputs": []
    },
    {
      "cell_type": "code",
      "source": [
        "def talk_to_me(prompt, model='gpt-3.5-turbo', temperature=0):\n",
        "    # creating the input message to chatgpt\n",
        "    messages = [{\"role\": \"user\", \"content\": prompt}]\n",
        "\n",
        "    # hitting the chatgpt end-point and getting the response\n",
        "    response = openai.ChatCompletion.create(\n",
        "        model=model,\n",
        "        messages=messages,\n",
        "        temperature=temperature\n",
        "    )\n",
        "\n",
        "    # select the content of the first choice\n",
        "    return response.choices[0].message[\"content\"]"
      ],
      "metadata": {
        "id": "czLHkmxnKXRC"
      },
      "execution_count": 36,
      "outputs": []
    },
    {
      "cell_type": "code",
      "source": [
        "prompt = \"Hi. My name is AS. Who are you?\""
      ],
      "metadata": {
        "id": "KABzwAQsKWem"
      },
      "execution_count": 39,
      "outputs": []
    },
    {
      "cell_type": "code",
      "source": [
        "print(prompt)"
      ],
      "metadata": {
        "colab": {
          "base_uri": "https://localhost:8080/"
        },
        "id": "rEqnS0niKVN6",
        "outputId": "fec69b2d-61cc-49e4-a252-4e69bb3093ff"
      },
      "execution_count": 40,
      "outputs": [
        {
          "output_type": "stream",
          "name": "stdout",
          "text": [
            "Hi. My name is AS. Who are you?\n"
          ]
        }
      ]
    },
    {
      "cell_type": "code",
      "source": [
        "response = talk_to_me(prompt)"
      ],
      "metadata": {
        "id": "qUG_s5u7Mv8E"
      },
      "execution_count": 41,
      "outputs": []
    },
    {
      "cell_type": "code",
      "source": [
        "response"
      ],
      "metadata": {
        "colab": {
          "base_uri": "https://localhost:8080/",
          "height": 35
        },
        "id": "4r_s-eP0Mw1c",
        "outputId": "0582eab7-67e5-49e1-c7b0-27203a8ff68f"
      },
      "execution_count": 42,
      "outputs": [
        {
          "output_type": "execute_result",
          "data": {
            "text/plain": [
              "\"Hello AS! I'm an AI trained to assist with various tasks and provide information. How can I help you today?\""
            ],
            "application/vnd.google.colaboratory.intrinsic+json": {
              "type": "string"
            }
          },
          "metadata": {},
          "execution_count": 42
        }
      ]
    },
    {
      "cell_type": "markdown",
      "source": [
        "**SUMMARIZATION **\n"
      ],
      "metadata": {
        "id": "xbiOpqX6_FJq"
      }
    },
    {
      "cell_type": "code",
      "source": [
        "prompt =' while reading an article i have heard you are excellent at summarizing stuff. so can you please explain me in detail about chapgpt summarization'"
      ],
      "metadata": {
        "id": "SzPmQZUNXiCz"
      },
      "execution_count": 29,
      "outputs": []
    },
    {
      "cell_type": "code",
      "source": [
        "response= talk_to_me(prompt)\n",
        "print(response)"
      ],
      "metadata": {
        "colab": {
          "base_uri": "https://localhost:8080/"
        },
        "id": "HwlcfVYkXh_W",
        "outputId": "e67684aa-02a3-4b80-f9d8-74e13a13113c"
      },
      "execution_count": 15,
      "outputs": [
        {
          "output_type": "stream",
          "name": "stdout",
          "text": [
            "ChapGPT is a language model developed by OpenAI, and it is designed to generate human-like text based on given prompts. One of the tasks it can perform is text summarization, which involves condensing a longer piece of text into a shorter summary while preserving the key information.\n",
            "\n",
            "ChapGPT uses a technique called unsupervised learning, where it learns from a large amount of text data without explicit human annotations. It is trained on a diverse range of sources, including books, articles, and websites, to develop a broad understanding of language and knowledge.\n",
            "\n",
            "When it comes to summarization, ChapGPT can take a longer document or article as input and generate a concise summary that captures the main points. It does this by understanding the context, identifying important sentences or phrases, and then generating a summary that conveys the essence of the original text.\n",
            "\n",
            "The summarization process in ChapGPT involves several steps. First, the model receives the input text and encodes it into a numerical representation that it can work with. Then, it uses this representation to generate a summary by predicting the most relevant and informative sentences.\n",
            "\n",
            "ChapGPT's summarization capabilities are impressive, but it's important to note that it may not always produce perfect summaries. Like any language model, it has limitations and can sometimes generate summaries that are incomplete, biased, or miss important details. It may also struggle with understanding nuanced or ambiguous language.\n",
            "\n",
            "To address these limitations, OpenAI has implemented certain techniques to make the model more controllable and reliable. For example, they allow users to provide specific instructions or constraints to guide the summarization process, such as specifying the desired length or asking the model to focus on certain aspects of the text.\n",
            "\n",
            "Overall, ChapGPT's summarization feature is a powerful tool that can help users quickly grasp the main points of a longer text. However, it's important to review and verify the generated summaries to ensure accuracy and completeness, especially when dealing with critical or sensitive information.\n"
          ]
        }
      ]
    },
    {
      "cell_type": "code",
      "source": [
        "prompt='''please summarize how chapgpt text summarization works in step by step order.\n",
        "create a list top 10 words used while creating text summarizations on chatgpt.\n",
        "also create me top 10 keyword to summarize text accurately.\n",
        "'''\n",
        "reponse=talk_to_me(prompt)\n",
        "print(response)"
      ],
      "metadata": {
        "id": "8sb13mTZXh9B"
      },
      "execution_count": null,
      "outputs": []
    },
    {
      "cell_type": "code",
      "source": [
        "prompt='create a list top 10 words used while creating text summarizations on chatgpt.'"
      ],
      "metadata": {
        "id": "ws-WtnFEXh7J"
      },
      "execution_count": 85,
      "outputs": []
    },
    {
      "cell_type": "code",
      "source": [
        "response=talk_to_me(prompt)"
      ],
      "metadata": {
        "id": "7uIJIQWCXh3-"
      },
      "execution_count": 17,
      "outputs": []
    },
    {
      "cell_type": "code",
      "source": [
        "print(response)"
      ],
      "metadata": {
        "colab": {
          "base_uri": "https://localhost:8080/"
        },
        "id": "dPOfc8zQXhpi",
        "outputId": "bb71023b-0d86-4a38-e540-8fee74a11eaa"
      },
      "execution_count": 18,
      "outputs": [
        {
          "output_type": "stream",
          "name": "stdout",
          "text": [
            "1. Summary\n",
            "2. Text\n",
            "3. Information\n",
            "4. Important\n",
            "5. Key\n",
            "6. Main\n",
            "7. Relevant\n",
            "8. Extract\n",
            "9. Condense\n",
            "10. Highlight\n"
          ]
        }
      ]
    },
    {
      "cell_type": "code",
      "source": [
        "prompt='create me top 10 keyword to summarize text accurately'"
      ],
      "metadata": {
        "id": "WVIjkCy1c3K7"
      },
      "execution_count": 19,
      "outputs": []
    },
    {
      "cell_type": "code",
      "source": [
        "response=talk_to_me(prompt)\n",
        "print(response)"
      ],
      "metadata": {
        "colab": {
          "base_uri": "https://localhost:8080/"
        },
        "id": "KOTWz2i0c3Hk",
        "outputId": "c4c9af7c-dec0-4dfb-e427-e9d7f9fef7b1"
      },
      "execution_count": 21,
      "outputs": [
        {
          "output_type": "stream",
          "name": "stdout",
          "text": [
            "1. Summary\n",
            "2. Accurate\n",
            "3. Text\n",
            "4. Key points\n",
            "5. Main ideas\n",
            "6. Concise\n",
            "7. Precise\n",
            "8. Synthesis\n",
            "9. Overview\n",
            "10. Essential information\n"
          ]
        }
      ]
    },
    {
      "cell_type": "code",
      "source": [
        "prompt='show me at least 5 examples of how to summarizing in chatgpt'"
      ],
      "metadata": {
        "id": "EV9HQhfnc3F3"
      },
      "execution_count": 10,
      "outputs": []
    },
    {
      "cell_type": "code",
      "source": [
        "response=talk_to_me(prompt)"
      ],
      "metadata": {
        "id": "Ix39B5ZEc3Do"
      },
      "execution_count": 11,
      "outputs": []
    },
    {
      "cell_type": "code",
      "source": [
        "print(response)"
      ],
      "metadata": {
        "colab": {
          "base_uri": "https://localhost:8080/"
        },
        "id": "HV2T135ec3B0",
        "outputId": "4ebcce6a-767b-4a90-e42b-fc581242b720"
      },
      "execution_count": 12,
      "outputs": [
        {
          "output_type": "stream",
          "name": "stdout",
          "text": [
            "Sure! Here are five examples of how to summarize in ChatGPT:\n",
            "\n",
            "1. User: Can you summarize the main points of the article about climate change?\n",
            "   Assistant: The article discusses the causes and impacts of climate change, highlighting the role of greenhouse gas emissions, rising global temperatures, and extreme weather events.\n",
            "\n",
            "2. User: I'm having trouble understanding this long passage. Can you summarize it for me?\n",
            "   Assistant: Of course! The passage explains the concept of artificial intelligence and its applications in various fields, emphasizing its potential to revolutionize industries and improve efficiency.\n",
            "\n",
            "3. User: What are the key takeaways from the book \"To Kill a Mockingbird\"?\n",
            "   Assistant: \"To Kill a Mockingbird\" explores themes of racial injustice, morality, and the loss of innocence through the eyes of Scout Finch, a young girl in the 1930s American South.\n",
            "\n",
            "4. User: I need a brief summary of the movie \"Inception.\"\n",
            "   Assistant: \"Inception\" is a sci-fi thriller that follows a skilled thief who enters people's dreams to steal information. The movie delves into the complexities of dreams and blurs the line between reality and imagination.\n",
            "\n",
            "5. User: Can you summarize the plot of Shakespeare's play \"Romeo and Juliet\"?\n",
            "   Assistant: \"Romeo and Juliet\" is a tragic love story set in Verona, Italy. It revolves around the forbidden romance between Romeo Montague and Juliet Capulet, leading to a series of unfortunate events and the ultimate tragedy of their deaths.\n"
          ]
        }
      ]
    },
    {
      "cell_type": "code",
      "source": [
        "prompt=f'can you summarize the essential points form the given article about galazy z flip 5 from this link https://zeenews.india.com/technology/galaxy-z-flip-5-is-it-worth-to-buy-samsungs-new-foldable-phone-check-what-it-offers-to-customers-2650815.html'"
      ],
      "metadata": {
        "id": "FfaPfsuUc293"
      },
      "execution_count": 32,
      "outputs": []
    },
    {
      "cell_type": "code",
      "source": [
        "response=talk_to_me(prompt)"
      ],
      "metadata": {
        "id": "qxl5Eegkc27e"
      },
      "execution_count": 33,
      "outputs": []
    },
    {
      "cell_type": "code",
      "source": [
        "print(response)"
      ],
      "metadata": {
        "id": "9deSXg4Wc23C"
      },
      "execution_count": null,
      "outputs": []
    },
    {
      "cell_type": "code",
      "source": [
        "prompt=\"\"\"summarize the main points from the article present in the '''https://www.ndtv.com/india-news/chhattisgarh-aap-congress-exchange-of-harsh-words-puts-question-mark-on-india-bloc-4311566'''\n",
        "also write in each sentence in a new line\"\"\""
      ],
      "metadata": {
        "id": "zmGdQvb_c2zM"
      },
      "execution_count": 42,
      "outputs": []
    },
    {
      "cell_type": "code",
      "source": [
        "response=talk_to_me(prompt)"
      ],
      "metadata": {
        "id": "dHASr7jeIlJJ"
      },
      "execution_count": 43,
      "outputs": []
    },
    {
      "cell_type": "code",
      "source": [
        "print(response)"
      ],
      "metadata": {
        "colab": {
          "base_uri": "https://localhost:8080/"
        },
        "id": "d1pWhhoNIlGg",
        "outputId": "0af20f95-c461-4f11-e0ad-a9097757e9eb"
      },
      "execution_count": 44,
      "outputs": [
        {
          "output_type": "stream",
          "name": "stdout",
          "text": [
            "- The article discusses the exchange of harsh words between the Aam Aadmi Party (AAP) and the Congress party in Chhattisgarh, which has raised concerns about the unity of the opposition parties in India.\n",
            "- The conflict began when the AAP accused the Congress of being involved in a scam related to the procurement of rice in Chhattisgarh.\n",
            "- The AAP alleged that the Congress government in the state had purchased rice at a higher price, causing a loss of crores of rupees to the state exchequer.\n",
            "- In response, the Congress party accused the AAP of spreading false information and stated that the allegations were baseless.\n",
            "- The exchange of accusations between the two parties has led to a rift within the opposition bloc, raising doubts about their ability to present a united front against the ruling Bharatiya Janata Party (BJP) in upcoming elections.\n",
            "- The Congress party has been trying to form a united opposition front to challenge the BJP's dominance in Indian politics.\n",
            "- However, this recent conflict between the AAP and Congress in Chhattisgarh has highlighted the challenges in maintaining unity among opposition parties.\n",
            "- The article suggests that such internal conflicts within the opposition could benefit the BJP, as it weakens the opposition's ability to effectively challenge the ruling party.\n",
            "- The rift between the AAP and Congress in Chhattisgarh serves as a reminder that opposition parties need to prioritize unity and coordination to present a strong alternative to the ruling party.\n"
          ]
        }
      ]
    },
    {
      "cell_type": "code",
      "source": [
        "prompt='''what are critical takeaways from the article in \"\"https://www.thehindu.com/news/international/russia-says-destroys-drones-in-moscow-black-sea/article67208514.ece\"\"'''"
      ],
      "metadata": {
        "id": "1VJQPmzKIlBJ"
      },
      "execution_count": 46,
      "outputs": []
    },
    {
      "cell_type": "code",
      "source": [
        "response=talk_to_me(prompt)"
      ],
      "metadata": {
        "id": "dxmqu13IIk-R"
      },
      "execution_count": 47,
      "outputs": []
    },
    {
      "cell_type": "code",
      "source": [
        "print(response)"
      ],
      "metadata": {
        "colab": {
          "base_uri": "https://localhost:8080/"
        },
        "id": "2pyNm8p9Ik66",
        "outputId": "ec7d8ae3-3d5f-4900-ff76-bc168c372123"
      },
      "execution_count": 48,
      "outputs": [
        {
          "output_type": "stream",
          "name": "stdout",
          "text": [
            "The critical takeaways from the article titled \"Russia says destroys drones in Moscow, Black Sea\" are as follows:\n",
            "\n",
            "1. Russia's Defense Ministry announced that it successfully destroyed several drones that were approaching its airspace in both Moscow and the Black Sea region.\n",
            "2. The Defense Ministry stated that the drones were detected by Russia's air defense systems and were neutralized using electronic warfare measures.\n",
            "3. The exact number and origin of the drones were not disclosed, but the Defense Ministry emphasized that they posed no threat to Russia's security.\n",
            "4. The incident highlights Russia's advanced air defense capabilities and its ability to counter potential threats from unmanned aerial vehicles.\n",
            "5. The Defense Ministry's statement comes amid increasing concerns globally about the use of drones for surveillance, attacks, and other malicious activities.\n",
            "6. Russia has been investing heavily in developing and deploying advanced air defense systems to protect its airspace from potential threats.\n",
            "7. The successful interception of the drones demonstrates Russia's commitment to maintaining its national security and protecting its borders.\n",
            "8. The incident also serves as a reminder of the evolving nature of warfare, with drones playing an increasingly significant role in modern conflicts.\n",
            "9. The Defense Ministry's announcement aims to reassure the public and international community about Russia's ability to defend its airspace effectively.\n",
            "10. The article does not provide any further details regarding the motives behind the drone incursions or any potential consequences resulting from the incident.\n"
          ]
        }
      ]
    },
    {
      "cell_type": "markdown",
      "source": [
        "2)**INFERING**"
      ],
      "metadata": {
        "id": "z9Gzev0INktA"
      }
    },
    {
      "cell_type": "code",
      "source": [
        "delimiter = \"```\""
      ],
      "metadata": {
        "id": "ztUlO3rJYLgP"
      },
      "execution_count": 13,
      "outputs": []
    },
    {
      "cell_type": "code",
      "source": [
        "content = \"\"\"No company reprentative visited for demo even after repeted request therefore product quality, defects or working can not be asretained. Please send reprentative immediately for demo.\"\"\""
      ],
      "metadata": {
        "id": "eJM7Cxv-ZkFf"
      },
      "execution_count": 14,
      "outputs": []
    },
    {
      "cell_type": "code",
      "source": [
        "def get_review(content):\n",
        "  prompt = f\"\"\"give me a sentiment for the content provided in the {delimiter}.\n",
        "  The response should be any one of the following Very Positive, Positive, Neutral, Negative or Very Negative.\n",
        "  Also give a sentiment score between 0 and 1 where 1 means more confident and 0 is least confident.\n",
        "\n",
        "  {delimiter}{content}{delimiter}\n",
        "  \"\"\"\n",
        "\n",
        "  response = talk_to_me(prompt, temperature=0)\n",
        "  return response"
      ],
      "metadata": {
        "id": "4bs4h7eLYgSX"
      },
      "execution_count": 15,
      "outputs": []
    },
    {
      "cell_type": "code",
      "source": [
        "result = get_review(content)\n",
        "print(result)"
      ],
      "metadata": {
        "colab": {
          "base_uri": "https://localhost:8080/"
        },
        "id": "Id1obeWKPDdQ",
        "outputId": "d9215529-3052-4a50-af6c-8393b157f5df"
      },
      "execution_count": 16,
      "outputs": [
        {
          "output_type": "stream",
          "name": "stdout",
          "text": [
            "Sentiment: Negative\n",
            "Sentiment score: 0.8\n"
          ]
        }
      ]
    },
    {
      "cell_type": "code",
      "source": [
        "content = \"\"\"I ordered green but got light green it's not at all similar to the product shown , Nothing special only sim slot is good n silent push n pull button and 5G network switching won't happen from 4G\"\"\"\n",
        "result = get_review(content)\n",
        "print(result)"
      ],
      "metadata": {
        "colab": {
          "base_uri": "https://localhost:8080/"
        },
        "id": "QpO-V2vWeeHO",
        "outputId": "c61d56ba-df5f-4ba1-c634-a5e55b8cd179"
      },
      "execution_count": 17,
      "outputs": [
        {
          "output_type": "stream",
          "name": "stdout",
          "text": [
            "Sentiment: Negative\n",
            "Sentiment score: 0.7\n"
          ]
        }
      ]
    },
    {
      "cell_type": "code",
      "source": [
        "mylimiter=\"'''\""
      ],
      "metadata": {
        "id": "7tMJSMwSUJxG"
      },
      "execution_count": 18,
      "outputs": []
    },
    {
      "cell_type": "code",
      "source": [
        "def rating_bygpt(comment):\n",
        "  prompt=f\"\"\"give me sentiment for the text provided by the customer in {mylimiter}.\n",
        "  respond to me with the result ranging from 0-100.\n",
        "  also give me sentiment score from the following very happy,happy,normal,sad and very sad.\n",
        "  {mylimiter}{comment}{mylimiter}\n",
        "  \"\"\"\n",
        "  response=talk_to_me(prompt)\n",
        "  return response\n",
        ""
      ],
      "metadata": {
        "id": "PhzVEfHBYg0S"
      },
      "execution_count": 19,
      "outputs": []
    },
    {
      "cell_type": "code",
      "source": [
        "comment='''Excellent'''\n",
        "result=rating_bygpt(comment)\n",
        "print(result)"
      ],
      "metadata": {
        "id": "0QDowEffYg2m",
        "colab": {
          "base_uri": "https://localhost:8080/"
        },
        "outputId": "29de9f23-7856-41a5-97c8-81b1c53448ee"
      },
      "execution_count": 20,
      "outputs": [
        {
          "output_type": "stream",
          "name": "stdout",
          "text": [
            "Sentiment score: 100\n",
            "Sentiment: Very happy\n"
          ]
        }
      ]
    },
    {
      "cell_type": "code",
      "source": [
        "comment=\"\"\"No company reprentative visited for demo even after repeted request therefore product quality, defects or working can not be asretained. Please send reprentative immediately for demo.\n",
        "\"\"\"\n",
        "result=rating_bygpt(comment)\n",
        "print(result)"
      ],
      "metadata": {
        "id": "aAEsML7LYg5h",
        "colab": {
          "base_uri": "https://localhost:8080/"
        },
        "outputId": "ce0b4dae-8268-4b43-b02d-648413eebdc4"
      },
      "execution_count": 21,
      "outputs": [
        {
          "output_type": "stream",
          "name": "stdout",
          "text": [
            "Sentiment score: 20\n",
            "Sentiment: Sad\n"
          ]
        }
      ]
    },
    {
      "cell_type": "code",
      "source": [
        "comment='I purchase the microwave was good but one day use and the bulb was defective the company man charge me 200rs and the service was 10-15 days later come matlab galat company Wale kare paise hum bhukte I complain no purchase anyone this microwave no return option only technin come and charge so purchase offline i recommended'\n",
        "\n",
        "result=rating_bygpt(comment)\n",
        "print(result)"
      ],
      "metadata": {
        "id": "6x7dQ1sAYg8Y",
        "colab": {
          "base_uri": "https://localhost:8080/"
        },
        "outputId": "aa2612af-4afd-4735-b88e-de5be13d1697"
      },
      "execution_count": 22,
      "outputs": [
        {
          "output_type": "stream",
          "name": "stdout",
          "text": [
            "Sentiment score: 30\n",
            "\n",
            "Sentiment: Sad\n"
          ]
        }
      ]
    },
    {
      "cell_type": "code",
      "source": [
        "comment='horrible product with excellente camura. also good screen but bad light'\n",
        "result=rating_bygpt(comment)\n",
        "print(result)\n"
      ],
      "metadata": {
        "id": "iD62_0M2Yg-p",
        "colab": {
          "base_uri": "https://localhost:8080/"
        },
        "outputId": "6f9088eb-1d21-4cb2-85ed-81f0d849965c"
      },
      "execution_count": 23,
      "outputs": [
        {
          "output_type": "stream",
          "name": "stdout",
          "text": [
            "Sentiment score: 40\n",
            "Sentiment: Normal\n"
          ]
        }
      ]
    },
    {
      "cell_type": "markdown",
      "source": [
        "**EXPANDING**"
      ],
      "metadata": {
        "id": "ToKGSkDB4lYz"
      }
    },
    {
      "cell_type": "code",
      "source": [],
      "metadata": {
        "id": "VOjX0YAOYhBP"
      },
      "execution_count": null,
      "outputs": []
    },
    {
      "cell_type": "code",
      "source": [
        "prompt='create me a letter to a family friend. the tone should be of actor shah rukh khan'"
      ],
      "metadata": {
        "id": "2UH_16CZMw_l"
      },
      "execution_count": 45,
      "outputs": []
    },
    {
      "cell_type": "code",
      "source": [
        "response=talk_to_me(prompt)\n"
      ],
      "metadata": {
        "id": "e325Bbi2MxEi"
      },
      "execution_count": 46,
      "outputs": []
    },
    {
      "cell_type": "code",
      "source": [
        "print(response)"
      ],
      "metadata": {
        "id": "gKTFNDGCMxG3",
        "colab": {
          "base_uri": "https://localhost:8080/"
        },
        "outputId": "ee4b675a-6e67-459f-afc2-8c7e016f3aa4"
      },
      "execution_count": 48,
      "outputs": [
        {
          "output_type": "stream",
          "name": "stdout",
          "text": [
            "Dear [Family Friend's Name],\n",
            "\n",
            "Namaste!\n",
            "\n",
            "I hope this letter finds you in the best of health and high spirits. It has been quite some time since we last connected, and I wanted to take this opportunity to reach out and express my heartfelt greetings to you and your family.\n",
            "\n",
            "Firstly, let me begin by saying that I am truly grateful for the bond we share. Over the years, our families have grown closer, and I cherish the memories we have created together. Your unwavering support and love have always meant the world to me, and I cannot thank you enough for being a part of my journey.\n",
            "\n",
            "As I sit here, reminiscing about our conversations and laughter, I am reminded of the joy and warmth you bring into our lives. Your infectious enthusiasm and positive energy have been a constant source of inspiration for me. It is friends like you who make this world a better place, and I am truly blessed to have you in my life.\n",
            "\n",
            "I must admit that life in the world of cinema can be quite demanding, with its ups and downs. However, it is the love and encouragement from friends like you that keep me going. Your unwavering belief in my abilities has been a driving force behind my success, and I am forever grateful for your constant support.\n",
            "\n",
            "I hope that this letter finds you amidst happiness and contentment. May your days be filled with laughter, love, and prosperity. Remember, life is a beautiful journey, and it is the people we meet along the way who make it truly worthwhile.\n",
            "\n",
            "Please do convey my warm regards to your family. I eagerly look forward to our next meeting, where we can catch up on all the stories and experiences we have missed out on. Until then, please take care of yourself and your loved ones.\n",
            "\n",
            "With warmest regards,\n",
            "\n",
            "Shah Rukh Khan\n"
          ]
        }
      ]
    },
    {
      "cell_type": "code",
      "source": [
        "prompt='write me a formal letter to my employee. add a health related reason and ask for leave for january 10 to january 23.also writ that letter in 50-100words only'"
      ],
      "metadata": {
        "id": "mxUEXRWDKVta"
      },
      "execution_count": 54,
      "outputs": []
    },
    {
      "cell_type": "code",
      "source": [
        "response=talk_to_me(prompt)"
      ],
      "metadata": {
        "id": "GQCfNYEl8Ge8"
      },
      "execution_count": null,
      "outputs": []
    },
    {
      "cell_type": "code",
      "source": [
        "print(response)"
      ],
      "metadata": {
        "colab": {
          "base_uri": "https://localhost:8080/"
        },
        "id": "NObFQaFw8Gc6",
        "outputId": "e6fa6ebb-1a8f-49d6-f1ea-d03250c47697"
      },
      "execution_count": 56,
      "outputs": [
        {
          "output_type": "stream",
          "name": "stdout",
          "text": [
            "[Your Name]\n",
            "[Your Address]\n",
            "[City, State, ZIP Code]\n",
            "[Email Address]\n",
            "[Phone Number]\n",
            "[Date]\n",
            "\n",
            "[Employee's Name]\n",
            "[Employee's Position]\n",
            "[Company Name]\n",
            "[Company Address]\n",
            "[City, State, ZIP Code]\n",
            "\n",
            "Dear [Employee's Name],\n",
            "\n",
            "I hope this letter finds you in good health and high spirits. I am writing to discuss an important matter regarding your upcoming leave request. \n",
            "\n",
            "Firstly, I would like to express my appreciation for your dedication and hard work throughout your tenure at [Company Name]. Your commitment to your responsibilities has been commendable, and your contributions have significantly impacted our team's success.\n",
            "\n",
            "However, I have recently become aware of a health-related concern that requires your immediate attention. It is crucial to prioritize your well-being and take the necessary steps to ensure a full recovery. With this in mind, I understand and support your need to take a leave of absence from January 10 to January 23, 2023.\n",
            "\n",
            "During your absence, I assure you that we will make the necessary arrangements to ensure the smooth functioning of your department. I kindly request that you provide any pertinent information or instructions that will assist us in maintaining continuity during your absence.\n",
            "\n",
            "Please be aware that your health and privacy are of utmost importance to us. Any medical documentation or information you provide will be treated with the strictest confidentiality and will only be shared with individuals who require it for administrative purposes.\n",
            "\n",
            "I encourage you to focus on your recovery during this time and to follow the advice and recommendations of your healthcare provider. It is essential that you return to work in good health and with renewed energy.\n",
            "\n",
            "If there are any additional details or concerns you would like to discuss regarding your leave, please do not hesitate to reach out to me. I am available to address any questions or provide any necessary support.\n",
            "\n",
            "Once again, I want to emphasize that your well-being is our top priority. Take this time to rest, recuperate, and return to us with restored vitality. We eagerly await your return to the team.\n",
            "\n",
            "Thank you for your understanding and cooperation.\n",
            "\n",
            "Sincerely,\n",
            "\n",
            "[Your Name]\n",
            "[Your Position]\n",
            "[Company Name]\n"
          ]
        }
      ]
    },
    {
      "cell_type": "code",
      "source": [
        "prompt='write me an email to amazon asking for a refund'"
      ],
      "metadata": {
        "id": "6TfVmjQT8GbB"
      },
      "execution_count": 57,
      "outputs": []
    },
    {
      "cell_type": "code",
      "source": [
        "response=talk_to_me(prompt)"
      ],
      "metadata": {
        "id": "xOuPUf-b8GYy"
      },
      "execution_count": 58,
      "outputs": []
    },
    {
      "cell_type": "code",
      "source": [
        "print(response)"
      ],
      "metadata": {
        "colab": {
          "base_uri": "https://localhost:8080/"
        },
        "id": "2hflLACr8GWL",
        "outputId": "874425f0-c2bd-4258-f497-6e5ff3d9df7b"
      },
      "execution_count": 59,
      "outputs": [
        {
          "output_type": "stream",
          "name": "stdout",
          "text": [
            "Subject: Request for Refund - Order #[Order Number]\n",
            "\n",
            "Dear Amazon Customer Support,\n",
            "\n",
            "I hope this email finds you well. I am writing to request a refund for an item I recently purchased from your platform. I have provided the necessary details below for your reference:\n",
            "\n",
            "Order Number: [Order Number]\n",
            "Item Name: [Item Name]\n",
            "Date of Purchase: [Date of Purchase]\n",
            "\n",
            "I regret to inform you that the item I received does not meet my expectations due to the following reasons:\n",
            "\n",
            "1. [Describe the issue or problem with the item in detail]\n",
            "2. [If applicable, mention any attempts made to resolve the issue]\n",
            "\n",
            "I kindly request a refund for the full purchase amount of [Amount Paid] to be credited back to my original payment method. I understand that the item may need to be returned, and I am willing to follow the necessary return procedures as instructed by your team.\n",
            "\n",
            "To facilitate the refund process, I have attached a copy of the order confirmation and any relevant supporting documents, such as photographs or screenshots, to help illustrate the issue.\n",
            "\n",
            "I have been a loyal customer of Amazon for [duration of your customer relationship], and I have always appreciated the excellent customer service provided by your team. I trust that you will handle this matter promptly and efficiently.\n",
            "\n",
            "Please let me know if there is any additional information or documentation required from my end to expedite the refund process. I look forward to your prompt response and resolution to this matter.\n",
            "\n",
            "Thank you for your attention to this request.\n",
            "\n",
            "Sincerely,\n",
            "\n",
            "[Your Name]\n",
            "[Your Contact Information]\n"
          ]
        }
      ]
    },
    {
      "cell_type": "code",
      "source": [
        "prompt='explain to me about black hole like am five'"
      ],
      "metadata": {
        "id": "swZzVzrl8GTk"
      },
      "execution_count": 60,
      "outputs": []
    },
    {
      "cell_type": "code",
      "source": [
        "response=talk_to_me(prompt)"
      ],
      "metadata": {
        "id": "KiM1dvEZ8GRG"
      },
      "execution_count": 61,
      "outputs": []
    },
    {
      "cell_type": "code",
      "source": [
        "print(response)"
      ],
      "metadata": {
        "colab": {
          "base_uri": "https://localhost:8080/"
        },
        "id": "1XwPcpb78GOr",
        "outputId": "fa6e78e4-1815-4ea5-9efb-cac67e115656"
      },
      "execution_count": 62,
      "outputs": [
        {
          "output_type": "stream",
          "name": "stdout",
          "text": [
            "Sure! Imagine you have a toy called a black hole. It's like a really big vacuum cleaner in space. But instead of cleaning up dirt, it sucks in everything around it, including light!\n",
            "\n",
            "Now, you know how when you throw a ball up in the air, it comes back down because of gravity? Well, a black hole has an incredibly strong gravitational pull. It's so strong that once something gets close to it, it gets pulled in and can't escape, just like when you drop something and it falls to the ground.\n",
            "\n",
            "The black hole is like a super heavy object that squishes everything it sucks in into a tiny, tiny space. It's like squeezing a big ball of playdough into a tiny, little ball. This tiny space is called a singularity.\n",
            "\n",
            "Because a black hole is so powerful, it can even pull in light. Light is the fastest thing we know, but even it can't escape the black hole's pull. That's why it's called a black hole, because it looks like a big, dark, empty spot in space.\n",
            "\n",
            "Black holes are really fascinating, but they're also very mysterious. Scientists are still learning a lot about them, and there's still so much we don't know. But they're definitely one of the most interesting things in the universe!\n"
          ]
        }
      ]
    },
    {
      "cell_type": "code",
      "source": [
        "prompt='''im new to chapgpt. studying and learning about how chatgpt expanding feature works. explain how can i use expannding feature of chapgpt accurately\n",
        " '''"
      ],
      "metadata": {
        "id": "S6-wpqm0I5x0"
      },
      "execution_count": 64,
      "outputs": []
    },
    {
      "cell_type": "code",
      "source": [
        "response=talk_to_me(prompt)"
      ],
      "metadata": {
        "id": "rD97TL_NI5uf"
      },
      "execution_count": 65,
      "outputs": []
    },
    {
      "cell_type": "code",
      "source": [
        "print(response)"
      ],
      "metadata": {
        "colab": {
          "base_uri": "https://localhost:8080/"
        },
        "id": "zlWlRvujI5sH",
        "outputId": "e26736aa-8e5c-4190-9864-4f1cda29f8d7"
      },
      "execution_count": 66,
      "outputs": [
        {
          "output_type": "stream",
          "name": "stdout",
          "text": [
            "To use the expanding feature of ChatGPT accurately, follow these steps:\n",
            "\n",
            "1. Start with a prompt: Begin by providing a clear and specific prompt to ChatGPT. This helps set the context and ensures that the model understands what you are asking.\n",
            "\n",
            "2. Use system messages: You can use system-level instructions to guide the model's behavior. By using a system message, you can gently instruct the model to think step-by-step, debate pros and cons, or provide more detailed explanations.\n",
            "\n",
            "3. Experiment with temperature: The temperature parameter controls the randomness of the model's responses. Higher values like 0.8 make the output more random, while lower values like 0.2 make it more focused and deterministic. Adjust the temperature to get the desired level of creativity or specificity in the responses.\n",
            "\n",
            "4. Limit response length: You can set a maximum token limit for the response to avoid excessively long or verbose answers. This helps in getting concise and relevant responses.\n",
            "\n",
            "5. Iterate and refine: If the initial response is not accurate or doesn't meet your requirements, you can iterate by providing more instructions or clarifying your query. You can also experiment with different phrasing or rephrasing of the prompt to get better results.\n",
            "\n",
            "6. Be explicit and specific: When asking questions or giving instructions, it's important to be explicit and specific. Clearly state what you want the model to do or consider, and provide any necessary context or constraints.\n",
            "\n",
            "7. Review and edit: Always review the generated responses for accuracy and coherence. You can edit or modify the response as needed to make it more accurate or aligned with your requirements.\n",
            "\n",
            "Remember that ChatGPT is a language model trained on a wide range of internet text, so it may sometimes generate incorrect or nonsensical answers. It's important to critically evaluate the responses and use your judgment to determine their accuracy and usefulness.\n"
          ]
        }
      ]
    },
    {
      "cell_type": "code",
      "source": [
        "prompt='pros and cons of captalism in 10 bullet points'"
      ],
      "metadata": {
        "id": "vPlJi0jWI5pH"
      },
      "execution_count": 72,
      "outputs": []
    },
    {
      "cell_type": "code",
      "source": [
        "reponse=talk_to_me(prompt)"
      ],
      "metadata": {
        "id": "gVNuJCRRI5mw"
      },
      "execution_count": 73,
      "outputs": []
    },
    {
      "cell_type": "code",
      "source": [
        "print(reponse)"
      ],
      "metadata": {
        "colab": {
          "base_uri": "https://localhost:8080/"
        },
        "id": "PYTgALfrI5jB",
        "outputId": "594ca94f-c007-4d4a-87fc-906e248b376b"
      },
      "execution_count": 75,
      "outputs": [
        {
          "output_type": "stream",
          "name": "stdout",
          "text": [
            "Pros of Capitalism:\n",
            "\n",
            "1. Economic Efficiency: Capitalism promotes competition, which drives businesses to be more efficient and innovative, leading to economic growth.\n",
            "2. Individual Freedom: Capitalism allows individuals to make their own choices regarding employment, consumption, and investment, promoting personal freedom and autonomy.\n",
            "3. Incentives for Hard Work: Capitalism rewards hard work and success, as individuals have the opportunity to accumulate wealth and improve their standard of living.\n",
            "4. Economic Growth: Capitalism has historically been associated with higher levels of economic growth compared to other economic systems.\n",
            "5. Consumer Choice: Capitalism offers a wide range of products and services, allowing consumers to choose from various options based on their preferences and needs.\n",
            "6. Wealth Creation: Capitalism provides opportunities for individuals to create wealth through entrepreneurship and investment, leading to overall prosperity.\n",
            "7. Innovation and Technological Advancement: Capitalism encourages innovation and technological advancement as businesses strive to develop new products and services to gain a competitive edge.\n",
            "8. Job Creation: Capitalism generates employment opportunities as businesses expand and new ventures are established, reducing unemployment rates.\n",
            "9. Economic Stability: Capitalism, when regulated effectively, can provide a stable economic system that adapts to changing market conditions and minimizes economic crises.\n",
            "10. Poverty Reduction: Capitalism, through economic growth and job creation, has the potential to reduce poverty rates and improve living standards.\n",
            "\n",
            "Cons of Capitalism:\n",
            "\n",
            "1. Income Inequality: Capitalism can lead to significant income disparities, with wealth concentrated in the hands of a few, while others struggle to meet their basic needs.\n",
            "2. Exploitation of Labor: In some cases, capitalism can result in the exploitation of workers, as businesses prioritize profits over fair wages and working conditions.\n",
            "3. Market Volatility: Capitalism is prone to market fluctuations and economic recessions, which can lead to job losses and financial instability.\n",
            "4. Environmental Impact: Unregulated capitalism may prioritize profit over environmental sustainability, leading to overexploitation of natural resources and pollution.\n",
            "5. Lack of Social Safety Nets: Capitalism, without proper social welfare programs, may leave vulnerable individuals without adequate support, such as healthcare or social assistance.\n",
            "6. Monopolies and Market Power: Capitalism can lead to the concentration of market power in the hands of a few dominant corporations, limiting competition and consumer choice.\n",
            "7. Short-term Focus: Capitalism's emphasis on short-term profits may discourage long-term planning and investment in areas such as education, infrastructure, and research.\n",
            "8. Externalities: Capitalism may not adequately account for the negative externalities associated with certain industries, such as pollution or social costs.\n",
            "9. Financialization: Capitalism can prioritize financial markets and speculation over real economic activities, potentially leading to economic instability.\n",
            "10. Lack of Social Cohesion: Capitalism, if not accompanied by social policies promoting inclusivity and equality, can lead to social divisions and unrest.\n"
          ]
        }
      ]
    },
    {
      "cell_type": "code",
      "source": [
        "prompt='behave like lyrisist gulzar and write me a rythemic song in roman hindi.'"
      ],
      "metadata": {
        "id": "8GLbPNpPLmr0"
      },
      "execution_count": 77,
      "outputs": []
    },
    {
      "cell_type": "code",
      "source": [
        "reponse=talk_to_me(prompt)"
      ],
      "metadata": {
        "id": "RT-Mli1F8GLW"
      },
      "execution_count": 78,
      "outputs": []
    },
    {
      "cell_type": "code",
      "source": [
        "print(reponse)"
      ],
      "metadata": {
        "colab": {
          "base_uri": "https://localhost:8080/"
        },
        "id": "I-YUnHz_8GC5",
        "outputId": "c7a37dd1-593c-476b-8d7a-5b9e7008059d"
      },
      "execution_count": 79,
      "outputs": [
        {
          "output_type": "stream",
          "name": "stdout",
          "text": [
            "(Verse 1)\n",
            "Dil ki baat, lafzon mein bayaan karein,\n",
            "Dastan likhein, geet banayein hum saath mein,\n",
            "Jeevan ki lehar, sangeet ke saath beh jaaye,\n",
            "Rangon se bhar dein, har pal ko mehkaaye.\n",
            "\n",
            "(Chorus)\n",
            "Aao saath chalein, yeh raah sajayein,\n",
            "Geeton ki dhun mein, khwabon ko jagayein,\n",
            "Rhythm hai yeh, dil ki dhadkan hai,\n",
            "Roman Hindi mein, geet hum banayein.\n",
            "\n",
            "(Verse 2)\n",
            "Chandni raatein, sitaron ki chamak,\n",
            "Dil mein uthe, pyaar ki aag si jwalamukhi,\n",
            "Dard ko bhula ke, khushiyo ka rang chadhayein,\n",
            "Har pal mein, naye khwaab sajayein.\n",
            "\n",
            "(Chorus)\n",
            "Aao saath chalein, yeh raah sajayein,\n",
            "Geeton ki dhun mein, khwabon ko jagayein,\n",
            "Rhythm hai yeh, dil ki dhadkan hai,\n",
            "Roman Hindi mein, geet hum banayein.\n",
            "\n",
            "(Bridge)\n",
            "Zindagi ki kahani, geeton mein likhein,\n",
            "Dil ki baatein, lafzon mein piro dein,\n",
            "Har shabd, ek ehsaas ka rang le aaye,\n",
            "Geet banayein, dilon ko behlaye.\n",
            "\n",
            "(Chorus)\n",
            "Aao saath chalein, yeh raah sajayein,\n",
            "Geeton ki dhun mein, khwabon ko jagayein,\n",
            "Rhythm hai yeh, dil ki dhadkan hai,\n",
            "Roman Hindi mein, geet hum banayein.\n",
            "\n",
            "(Outro)\n",
            "Geeton ki duniya, hum sab ke liye hai,\n",
            "Rhythm aur lyrics, saath mein jeevan ko sajaye,\n",
            "Lyricist Gulzar ki tarah, hum geet likhein,\n",
            "Roman Hindi mein, dilon ko behlayein.\n"
          ]
        }
      ]
    },
    {
      "cell_type": "code",
      "source": [
        "prompt='write me a song in roman hindi'"
      ],
      "metadata": {
        "id": "cvpPK5HtNOmp"
      },
      "execution_count": 80,
      "outputs": []
    },
    {
      "cell_type": "code",
      "source": [
        "reponse=talk_to_me(prompt,temperature=1)"
      ],
      "metadata": {
        "id": "UnOMvxO6NOks"
      },
      "execution_count": 81,
      "outputs": []
    },
    {
      "cell_type": "code",
      "source": [
        "print(reponse)"
      ],
      "metadata": {
        "colab": {
          "base_uri": "https://localhost:8080/"
        },
        "id": "FbKh9UyoNOix",
        "outputId": "30311ab5-54b3-4724-a1c8-ea7e35994836"
      },
      "execution_count": 82,
      "outputs": [
        {
          "output_type": "stream",
          "name": "stdout",
          "text": [
            "(Verse 1)\n",
            "Khud se milta hun roz, aaine se takraata hun,\n",
            "Sochne se dar lagta hai, kya haqiqat hai samjha hun,\n",
            "Jeevan ki uljhanon ka, yeh manzar hai bhari,\n",
            "Chhupa liya tha dard ko, ab bolungi saari.\n",
            "\n",
            "(Pre-Chorus)\n",
            "Dil ko behlaya tha yeh jeevan ka rasta,\n",
            "Par kathinaiyon se yeh dil hai bhasta,\n",
            "Lekin ab nafraton ko chor kar khada hun,\n",
            "Roman hindi mein sunlo, yeh mera sangeet hai.\n",
            "\n",
            "(Chorus)\n",
            "Dard bhari kahani likhi hai maine,\n",
            "Pyar se hi toh dil ki gehraiyon ko sunaye,\n",
            "Roman hindi mein bayan kar raha hu yeh raaz,\n",
            "Raat bhar jage, likhte rahe, aur gaaun yeh saaz.\n",
            "\n",
            "(Verse 2)\n",
            "Jeene ki saansein bahut kam hai, samay tikta nahi,\n",
            "Manziloon ka safar duro se guzarta jaata hai,\n",
            "Par yakeen hai mujhe, hai kuch toh iraada,\n",
            "Roman hindi mein dastaan mein dhoonda hai jagah.\n",
            "\n",
            "(Pre-Chorus)\n",
            "Dil ko behlaya tha yeh jeevan ka rasta,\n",
            "Par kathinaiyon se yeh dil hai bhasta,\n",
            "Lekin ab nafraton ko chor kar khada hun,\n",
            "Roman hindi mein sunlo, yeh mera sangeet hai.\n",
            "\n",
            "(Chorus)\n",
            "Dard bhari kahani likhi hai maine,\n",
            "Pyar se hi toh dil ki gehraiyon ko sunaye,\n",
            "Roman hindi mein bayan kar raha hu yeh raaz,\n",
            "Raat bhar jage, likhte rahe, aur gaaun yeh saaz.\n",
            "\n",
            "(Bridge)\n",
            "Aasman se chehre pe chamakti hui hain taare,\n",
            "Zindagi ke aangan mein khil rahe hain phool saare,\n",
            "Utho aur suno, yeh sangeet hai pyaar ka,\n",
            "Roman hindi ke shabd, dil se nikle hai apmaan ka.\n",
            "\n",
            "(Chorus)\n",
            "Dard bhari kahani likhi hai maine,\n",
            "Pyar se hi toh dil ki gehraiyon ko sunaye,\n",
            "Roman hindi mein bayan kar raha hu yeh raaz,\n",
            "Raat bhar jage, likhte rahe, aur gaaun yeh saaz.\n",
            "\n",
            "(Outro)\n",
            "Roman hindi ki bhasha mein, yeh kahani hai samay ki,\n",
            "Dil se nikli hai, shayari ki ishq ki,\n",
            "Dard bhari kahani likhi hai maine,\n",
            "Yeh Roman hindi hai, mera sangeet ka jeevan.\n"
          ]
        }
      ]
    },
    {
      "cell_type": "code",
      "source": [
        "prompt='write me a song in roman hindi'"
      ],
      "metadata": {
        "id": "wEEehASUNOgo"
      },
      "execution_count": 83,
      "outputs": []
    },
    {
      "cell_type": "code",
      "source": [
        "response=talk_to_me(prompt,temperature=0.1)"
      ],
      "metadata": {
        "id": "5PqSCuXTNOeB"
      },
      "execution_count": 84,
      "outputs": []
    },
    {
      "cell_type": "code",
      "source": [
        "print(response)"
      ],
      "metadata": {
        "colab": {
          "base_uri": "https://localhost:8080/"
        },
        "id": "RBehnGYMNObv",
        "outputId": "c7de9af9-4793-4a0d-b301-4416a1b2e8b7"
      },
      "execution_count": 86,
      "outputs": [
        {
          "output_type": "stream",
          "name": "stdout",
          "text": [
            "(Verse 1)\n",
            "Dil ki baatein, kaise kahun,\n",
            "Kho gaya hoon main, teri baahon mein.\n",
            "Dhadkan ki sargam, sun le tu,\n",
            "Tere bin jeena, hai mushkil yeh.\n",
            "\n",
            "(Chorus)\n",
            "Tu hai meri jaan, tu hai mera armaan,\n",
            "Tere bina jeena, hai kaisa yeh samaan.\n",
            "Dil se dil mila, pyaar ka rang chadha,\n",
            "Tere sang jeena, hai meri zindagi ka maksad.\n",
            "\n",
            "(Verse 2)\n",
            "Raat bhar jagi, tujhko socha,\n",
            "Tere khayalon mein, kho gaya main.\n",
            "Tere pyaar mein, rang gayi duniya,\n",
            "Teri aankhon mein, kho gaya main.\n",
            "\n",
            "(Chorus)\n",
            "Tu hai meri jaan, tu hai mera armaan,\n",
            "Tere bina jeena, hai kaisa yeh samaan.\n",
            "Dil se dil mila, pyaar ka rang chadha,\n",
            "Tere sang jeena, hai meri zindagi ka maksad.\n",
            "\n",
            "(Bridge)\n",
            "Tere saath chalun, har pal tere sang,\n",
            "Tere bin adhoora, hai mera jeevan rang.\n",
            "Tujhse juda hoke, kaise jee loon main,\n",
            "Tere bina jeena, hai mushkil yeh.\n",
            "\n",
            "(Chorus)\n",
            "Tu hai meri jaan, tu hai mera armaan,\n",
            "Tere bina jeena, hai kaisa yeh samaan.\n",
            "Dil se dil mila, pyaar ka rang chadha,\n",
            "Tere sang jeena, hai meri zindagi ka maksad.\n",
            "\n",
            "(Outro)\n",
            "Tere pyaar mein, khoya hoon main,\n",
            "Tere saath jeena, hai meri khwahish.\n",
            "Dil se dil mila, pyaar ka rang chadha,\n",
            "Tere sang jeena, hai meri zindagi ka maksad.\n"
          ]
        }
      ]
    },
    {
      "cell_type": "code",
      "source": [],
      "metadata": {
        "id": "_LtVYhULNOZp"
      },
      "execution_count": null,
      "outputs": []
    },
    {
      "cell_type": "code",
      "source": [],
      "metadata": {
        "id": "-hbZAJeQNOUX"
      },
      "execution_count": null,
      "outputs": []
    },
    {
      "cell_type": "code",
      "source": [],
      "metadata": {
        "id": "ONZ00CnQNOSJ"
      },
      "execution_count": null,
      "outputs": []
    }
  ]
}